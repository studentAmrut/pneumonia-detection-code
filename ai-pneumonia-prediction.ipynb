{
 "cells": [
  {
   "cell_type": "markdown",
   "metadata": {},
   "source": [
    "# Pneumonia Prediction using Convulational Neural Network\n",
    "\n",
    "The images trained, tested and validated for the neural network are chest X-Ray images. The implementation of clinical-decision support algorithms for medical imaging faces challenges with reliability and interpretability. Here, I establish a diagnostic tool based on a deep-learning framework for the screening of patients with common treatable blinding retinal diseases.\n",
    "\n",
    "![](http://miro.medium.com/max/1838/1*t-_EXQ3tlb8KOx6H7HN09A.jpeg)\n",
    "\n",
    "* The **normal** chest X-ray depicts clear lungs without any areas of abnormal opacification in the image. \n",
    "* **Bacterial pneumonia** typically exhibits a focal lobar consolidation around upper lobes (white arrows)\n",
    "* **Viral pneumonia** manifests with a more diffuse ‘‘interstitial’’ pattern in both lungs."
   ]
  },
  {
   "cell_type": "markdown",
   "metadata": {},
   "source": [
    "## Importing libraries"
   ]
  },
  {
   "cell_type": "code",
   "execution_count": 1,
   "metadata": {
    "execution": {
     "iopub.execute_input": "2021-12-14T05:03:45.355441Z",
     "iopub.status.busy": "2021-12-14T05:03:45.355080Z",
     "iopub.status.idle": "2021-12-14T05:04:01.918564Z",
     "shell.execute_reply": "2021-12-14T05:04:01.917699Z",
     "shell.execute_reply.started": "2021-12-14T05:03:45.355402Z"
    },
    "jupyter": {
     "outputs_hidden": true
    }
   },
   "outputs": [
    {
     "name": "stderr",
     "output_type": "stream",
     "text": [
      "WARNING: Retrying (Retry(total=4, connect=None, read=None, redirect=None, status=None)) after connection broken by 'NewConnectionError('<pip._vendor.urllib3.connection.HTTPSConnection object at 0x000001F9170FCBE0>: Failed to establish a new connection: [Errno 11001] getaddrinfo failed')': /simple/gradio/\n",
      "WARNING: Retrying (Retry(total=3, connect=None, read=None, redirect=None, status=None)) after connection broken by 'NewConnectionError('<pip._vendor.urllib3.connection.HTTPSConnection object at 0x000001F9170FC940>: Failed to establish a new connection: [Errno 11001] getaddrinfo failed')': /simple/gradio/\n",
      "WARNING: Retrying (Retry(total=2, connect=None, read=None, redirect=None, status=None)) after connection broken by 'NewConnectionError('<pip._vendor.urllib3.connection.HTTPSConnection object at 0x000001F917103550>: Failed to establish a new connection: [Errno 11001] getaddrinfo failed')': /simple/gradio/\n",
      "WARNING: Retrying (Retry(total=1, connect=None, read=None, redirect=None, status=None)) after connection broken by 'NewConnectionError('<pip._vendor.urllib3.connection.HTTPSConnection object at 0x000001F9171037F0>: Failed to establish a new connection: [Errno 11001] getaddrinfo failed')': /simple/gradio/\n",
      "WARNING: Retrying (Retry(total=0, connect=None, read=None, redirect=None, status=None)) after connection broken by 'NewConnectionError('<pip._vendor.urllib3.connection.HTTPSConnection object at 0x000001F9171039D0>: Failed to establish a new connection: [Errno 11001] getaddrinfo failed')': /simple/gradio/\n",
      "ERROR: Could not find a version that satisfies the requirement gradio (from versions: none)\n",
      "ERROR: No matching distribution found for gradio\n"
     ]
    }
   ],
   "source": [
    "!pip install gradio"
   ]
  },
  {
   "cell_type": "code",
   "execution_count": 2,
   "metadata": {
    "execution": {
     "iopub.execute_input": "2021-12-14T05:04:01.921073Z",
     "iopub.status.busy": "2021-12-14T05:04:01.920804Z",
     "iopub.status.idle": "2021-12-14T05:04:04.282427Z",
     "shell.execute_reply": "2021-12-14T05:04:04.281730Z",
     "shell.execute_reply.started": "2021-12-14T05:04:01.921038Z"
    }
   },
   "outputs": [
    {
     "ename": "ModuleNotFoundError",
     "evalue": "No module named 'keras'",
     "output_type": "error",
     "traceback": [
      "\u001b[1;31m---------------------------------------------------------------------------\u001b[0m",
      "\u001b[1;31mModuleNotFoundError\u001b[0m                       Traceback (most recent call last)",
      "Input \u001b[1;32mIn [2]\u001b[0m, in \u001b[0;36m<cell line: 3>\u001b[1;34m()\u001b[0m\n\u001b[0;32m      1\u001b[0m \u001b[38;5;28;01mimport\u001b[39;00m \u001b[38;5;21;01mmatplotlib\u001b[39;00m\u001b[38;5;21;01m.\u001b[39;00m\u001b[38;5;21;01mpyplot\u001b[39;00m \u001b[38;5;28;01mas\u001b[39;00m \u001b[38;5;21;01mplt\u001b[39;00m\n\u001b[0;32m      2\u001b[0m \u001b[38;5;28;01mimport\u001b[39;00m \u001b[38;5;21;01mseaborn\u001b[39;00m \u001b[38;5;28;01mas\u001b[39;00m \u001b[38;5;21;01msns\u001b[39;00m\n\u001b[1;32m----> 3\u001b[0m \u001b[38;5;28;01mimport\u001b[39;00m \u001b[38;5;21;01mkeras\u001b[39;00m\n\u001b[0;32m      4\u001b[0m \u001b[38;5;28;01mfrom\u001b[39;00m \u001b[38;5;21;01mkeras\u001b[39;00m\u001b[38;5;21;01m.\u001b[39;00m\u001b[38;5;21;01mmodels\u001b[39;00m \u001b[38;5;28;01mimport\u001b[39;00m Sequential\n\u001b[0;32m      5\u001b[0m \u001b[38;5;28;01mfrom\u001b[39;00m \u001b[38;5;21;01mkeras\u001b[39;00m\u001b[38;5;21;01m.\u001b[39;00m\u001b[38;5;21;01mlayers\u001b[39;00m \u001b[38;5;28;01mimport\u001b[39;00m Dense, Conv2D , MaxPool2D , Flatten , Dropout , BatchNormalization\n",
      "\u001b[1;31mModuleNotFoundError\u001b[0m: No module named 'keras'"
     ]
    }
   ],
   "source": [
    "import matplotlib.pyplot as plt\n",
    "import seaborn as sns\n",
    "import keras\n",
    "from keras.models import Sequential\n",
    "from keras.layers import Dense, Conv2D , MaxPool2D , Flatten , Dropout , BatchNormalization\n",
    "from keras.preprocessing.image import ImageDataGenerator\n",
    "from sklearn.model_selection import train_test_split\n",
    "from sklearn.metrics import classification_report,confusion_matrix\n",
    "from keras.callbacks import ReduceLROnPlateau\n",
    "import cv2\n",
    "import os\n",
    "import numpy as np\n",
    "import pandas as pd\n",
    "import gradio"
   ]
  },
  {
   "cell_type": "markdown",
   "metadata": {},
   "source": [
    "## Data Preprocessing\n",
    "\n",
    "**Getting training, validation and testing data set**"
   ]
  },
  {
   "cell_type": "code",
   "execution_count": null,
   "metadata": {
    "execution": {
     "iopub.execute_input": "2021-12-14T05:04:04.284013Z",
     "iopub.status.busy": "2021-12-14T05:04:04.283747Z",
     "iopub.status.idle": "2021-12-14T05:04:04.291533Z",
     "shell.execute_reply": "2021-12-14T05:04:04.290788Z",
     "shell.execute_reply.started": "2021-12-14T05:04:04.283978Z"
    }
   },
   "outputs": [],
   "source": [
    "labels = ['PNEUMONIA', 'NORMAL']\n",
    "img_size = 150\n",
    "def get_data(data_dir):\n",
    "    data = [] \n",
    "    for label in labels: \n",
    "        path = os.path.join(data_dir, label)\n",
    "        class_num = labels.index(label)\n",
    "        for img in os.listdir(path):\n",
    "            try:\n",
    "                img_arr = cv2.imread(os.path.join(path, img), cv2.IMREAD_GRAYSCALE)\n",
    "                resized_arr = cv2.resize(img_arr, (img_size, img_size)) # Reshaping images to preferred size\n",
    "                data.append([resized_arr, class_num])\n",
    "            except Exception as e:\n",
    "                print(e)\n",
    "    return np.array(data)"
   ]
  },
  {
   "cell_type": "code",
   "execution_count": null,
   "metadata": {
    "execution": {
     "iopub.execute_input": "2021-12-14T05:04:04.293734Z",
     "iopub.status.busy": "2021-12-14T05:04:04.293326Z",
     "iopub.status.idle": "2021-12-14T05:05:27.154006Z",
     "shell.execute_reply": "2021-12-14T05:05:27.153265Z",
     "shell.execute_reply.started": "2021-12-14T05:04:04.293696Z"
    }
   },
   "outputs": [],
   "source": [
    "train = get_data('../input/chest-xray-pneumonia/chest_xray/train')\n",
    "test = get_data('../input/chest-xray-pneumonia/chest_xray/test')\n",
    "val = get_data('../input/chest-xray-pneumonia/chest_xray/val')"
   ]
  },
  {
   "cell_type": "markdown",
   "metadata": {},
   "source": [
    "**Splitting x and y labels of training, validation and testing dataset**"
   ]
  },
  {
   "cell_type": "code",
   "execution_count": null,
   "metadata": {
    "execution": {
     "iopub.execute_input": "2021-12-14T05:05:27.157969Z",
     "iopub.status.busy": "2021-12-14T05:05:27.157734Z",
     "iopub.status.idle": "2021-12-14T05:05:27.173581Z",
     "shell.execute_reply": "2021-12-14T05:05:27.172886Z",
     "shell.execute_reply.started": "2021-12-14T05:05:27.157911Z"
    }
   },
   "outputs": [],
   "source": [
    "x_train = []\n",
    "y_train = []\n",
    "\n",
    "x_val = []\n",
    "y_val = []\n",
    "\n",
    "x_test = []\n",
    "y_test = []\n",
    "\n",
    "for feature, label in train:\n",
    "    x_train.append(feature)\n",
    "    y_train.append(label)\n",
    "\n",
    "for feature, label in test:\n",
    "    x_test.append(feature)\n",
    "    y_test.append(label)\n",
    "    \n",
    "for feature, label in val:\n",
    "    x_val.append(feature)\n",
    "    y_val.append(label)"
   ]
  },
  {
   "cell_type": "code",
   "execution_count": null,
   "metadata": {
    "execution": {
     "iopub.execute_input": "2021-12-14T05:05:27.175107Z",
     "iopub.status.busy": "2021-12-14T05:05:27.174824Z",
     "iopub.status.idle": "2021-12-14T05:05:27.186714Z",
     "shell.execute_reply": "2021-12-14T05:05:27.185980Z",
     "shell.execute_reply.started": "2021-12-14T05:05:27.175069Z"
    }
   },
   "outputs": [],
   "source": [
    "positives=[]\n",
    "negatives=[]\n",
    "for i in range(len(y_train)):\n",
    "    if y_train[i]:\n",
    "        positives.append(x_train[i])\n",
    "    else:\n",
    "        negatives.append(x_train[i])"
   ]
  },
  {
   "cell_type": "code",
   "execution_count": null,
   "metadata": {
    "execution": {
     "iopub.execute_input": "2021-12-14T05:05:27.188370Z",
     "iopub.status.busy": "2021-12-14T05:05:27.188057Z",
     "iopub.status.idle": "2021-12-14T05:05:27.386847Z",
     "shell.execute_reply": "2021-12-14T05:05:27.386151Z",
     "shell.execute_reply.started": "2021-12-14T05:05:27.188328Z"
    }
   },
   "outputs": [],
   "source": [
    "plt.bar(labels, [len(negatives), len(positives)], color=[\"green\", \"blue\"])\n",
    "plt.title(\"Cases count in training data set\")\n",
    "plt.ylabel(\"count\")\n",
    "plt.show()"
   ]
  },
  {
   "cell_type": "code",
   "execution_count": null,
   "metadata": {
    "execution": {
     "iopub.execute_input": "2021-12-14T05:05:27.388559Z",
     "iopub.status.busy": "2021-12-14T05:05:27.388149Z",
     "iopub.status.idle": "2021-12-14T05:05:27.834355Z",
     "shell.execute_reply": "2021-12-14T05:05:27.833666Z",
     "shell.execute_reply.started": "2021-12-14T05:05:27.388520Z"
    }
   },
   "outputs": [],
   "source": [
    "plt.imshow(positives[0])\n",
    "plt.title(\"Pneumonia\")\n",
    "plt.show()\n",
    "\n",
    "plt.imshow(negatives[4], cmap=\"gray\")\n",
    "plt.title(\"Normal\")\n",
    "plt.show()"
   ]
  },
  {
   "cell_type": "markdown",
   "metadata": {},
   "source": [
    "**Performing a grayscale normalization to reduce the effect of illumination's differences.**"
   ]
  },
  {
   "cell_type": "code",
   "execution_count": null,
   "metadata": {
    "execution": {
     "iopub.execute_input": "2021-12-14T05:05:27.836050Z",
     "iopub.status.busy": "2021-12-14T05:05:27.835626Z",
     "iopub.status.idle": "2021-12-14T05:05:28.210890Z",
     "shell.execute_reply": "2021-12-14T05:05:28.209955Z",
     "shell.execute_reply.started": "2021-12-14T05:05:27.836013Z"
    }
   },
   "outputs": [],
   "source": [
    "# Normalize the data\n",
    "x_train = np.array(x_train) / 255\n",
    "x_val = np.array(x_val) / 255\n",
    "x_test = np.array(x_test) / 255"
   ]
  },
  {
   "cell_type": "markdown",
   "metadata": {},
   "source": [
    "**Resizing the data for CNN training and testing**"
   ]
  },
  {
   "cell_type": "code",
   "execution_count": null,
   "metadata": {
    "execution": {
     "iopub.execute_input": "2021-12-14T05:05:28.212536Z",
     "iopub.status.busy": "2021-12-14T05:05:28.212258Z",
     "iopub.status.idle": "2021-12-14T05:05:28.219462Z",
     "shell.execute_reply": "2021-12-14T05:05:28.218761Z",
     "shell.execute_reply.started": "2021-12-14T05:05:28.212502Z"
    }
   },
   "outputs": [],
   "source": [
    "# resize data for deep learning \n",
    "x_train = x_train.reshape(-1, img_size, img_size, 1)\n",
    "y_train = np.array(y_train)\n",
    "\n",
    "x_val = x_val.reshape(-1, img_size, img_size, 1)\n",
    "y_val = np.array(y_val)\n",
    "\n",
    "x_test = x_test.reshape(-1, img_size, img_size, 1)\n",
    "y_test = np.array(y_test)"
   ]
  },
  {
   "cell_type": "code",
   "execution_count": null,
   "metadata": {
    "execution": {
     "iopub.execute_input": "2021-12-14T05:05:28.221137Z",
     "iopub.status.busy": "2021-12-14T05:05:28.220649Z",
     "iopub.status.idle": "2021-12-14T05:05:28.232058Z",
     "shell.execute_reply": "2021-12-14T05:05:28.231156Z",
     "shell.execute_reply.started": "2021-12-14T05:05:28.221093Z"
    }
   },
   "outputs": [],
   "source": [
    "x_test[0].shape"
   ]
  },
  {
   "cell_type": "code",
   "execution_count": null,
   "metadata": {
    "execution": {
     "iopub.execute_input": "2021-12-14T05:05:28.233982Z",
     "iopub.status.busy": "2021-12-14T05:05:28.233754Z",
     "iopub.status.idle": "2021-12-14T05:05:28.240952Z",
     "shell.execute_reply": "2021-12-14T05:05:28.240112Z",
     "shell.execute_reply.started": "2021-12-14T05:05:28.233952Z"
    }
   },
   "outputs": [],
   "source": [
    "y_train = y_train.reshape(-1,1)\n",
    "y_test = y_test.reshape(-1,1)\n",
    "y_val = y_val.reshape(-1,1)"
   ]
  },
  {
   "cell_type": "markdown",
   "metadata": {},
   "source": [
    "## Data augmentation\n",
    "\n",
    "In order to avoid overfitting problem, we can expand artificially our dataset. This can be done by altering the training data with small transformations to reproduce the variations. \n",
    "\n",
    "Some popular augmentations people use are grayscales, horizontal flips, vertical flips, random crops, color jitters, translations, rotations, and much more. By applying just a couple of these transformations to our training data, we can easily double or triple the number of training examples and create a very robust model."
   ]
  },
  {
   "cell_type": "code",
   "execution_count": null,
   "metadata": {
    "execution": {
     "iopub.execute_input": "2021-12-14T05:05:28.242570Z",
     "iopub.status.busy": "2021-12-14T05:05:28.242245Z",
     "iopub.status.idle": "2021-12-14T05:05:28.612119Z",
     "shell.execute_reply": "2021-12-14T05:05:28.611288Z",
     "shell.execute_reply.started": "2021-12-14T05:05:28.242533Z"
    }
   },
   "outputs": [],
   "source": [
    "datagen = ImageDataGenerator(\n",
    "        featurewise_center=False,\n",
    "        samplewise_center=False,\n",
    "        featurewise_std_normalization=False,\n",
    "        samplewise_std_normalization=False,\n",
    "        zca_whitening=False,\n",
    "        rotation_range = 30,  # randomly rotate images in the range (degrees, 0 to 180)\n",
    "        zoom_range = 0.2, # Randomly zoom image \n",
    "        width_shift_range=0.1,  # randomly shift images horizontally (fraction of total width)\n",
    "        height_shift_range=0.1,  # randomly shift images vertically (fraction of total height)\n",
    "        horizontal_flip = True,  # randomly flip images\n",
    "        vertical_flip=False)  # randomly flip images\n",
    "\n",
    "\n",
    "datagen.fit(x_train)"
   ]
  },
  {
   "cell_type": "code",
   "execution_count": null,
   "metadata": {
    "execution": {
     "iopub.execute_input": "2021-12-14T05:08:34.854213Z",
     "iopub.status.busy": "2021-12-14T05:08:34.853761Z",
     "iopub.status.idle": "2021-12-14T05:08:35.014317Z",
     "shell.execute_reply": "2021-12-14T05:08:35.013595Z",
     "shell.execute_reply.started": "2021-12-14T05:08:34.854173Z"
    }
   },
   "outputs": [],
   "source": [
    "model = Sequential()\n",
    "model.add(Conv2D(32 , (3,3) , strides = 1 , padding = 'same' , activation = 'relu' , input_shape = (150,150,1)))\n",
    "model.add(BatchNormalization())\n",
    "model.add(MaxPool2D((2,2) , strides = 2 , padding = 'same'))\n",
    "\n",
    "model.add(Conv2D(64 , (3,3) , strides = 1 , padding = 'same' , activation = 'relu'))\n",
    "model.add(Dropout(0.1))\n",
    "model.add(BatchNormalization())\n",
    "model.add(MaxPool2D((2,2) , strides = 2 , padding = 'same'))\n",
    "\n",
    "model.add(Conv2D(64 , (3,3) , strides = 1 , padding = 'same' , activation = 'relu'))\n",
    "model.add(BatchNormalization())\n",
    "model.add(MaxPool2D((2,2) , strides = 2 , padding = 'same'))\n",
    "\n",
    "model.add(Conv2D(128 , (3,3) , strides = 1 , padding = 'same' , activation = 'relu'))\n",
    "model.add(Dropout(0.2))\n",
    "model.add(BatchNormalization())\n",
    "model.add(MaxPool2D((2,2) , strides = 2 , padding = 'same'))\n",
    "\n",
    "model.add(Conv2D(256 , (3,3) , strides = 1 , padding = 'same' , activation = 'relu'))\n",
    "model.add(Dropout(0.2))\n",
    "model.add(BatchNormalization())\n",
    "model.add(MaxPool2D((2,2) , strides = 2 , padding = 'same'))\n",
    "\n",
    "model.add(Flatten())\n",
    "model.add(Dense(units = 128 , activation = 'relu'))\n",
    "model.add(Dropout(0.2))\n",
    "model.add(Dense(units = 1 , activation = 'sigmoid'))\n",
    "model.compile(optimizer = \"rmsprop\" , loss = 'binary_crossentropy' , metrics = ['accuracy'])\n",
    "model.summary()"
   ]
  },
  {
   "cell_type": "code",
   "execution_count": null,
   "metadata": {
    "execution": {
     "iopub.execute_input": "2021-12-14T05:08:39.115679Z",
     "iopub.status.busy": "2021-12-14T05:08:39.115420Z",
     "iopub.status.idle": "2021-12-14T05:08:39.128038Z",
     "shell.execute_reply": "2021-12-14T05:08:39.127213Z",
     "shell.execute_reply.started": "2021-12-14T05:08:39.115648Z"
    }
   },
   "outputs": [],
   "source": [
    "model.compile(optimizer = \"rmsprop\" , \n",
    "            loss = 'binary_crossentropy' , \n",
    "            metrics = ['accuracy'])\n",
    "# model.summary()"
   ]
  },
  {
   "cell_type": "code",
   "execution_count": null,
   "metadata": {
    "execution": {
     "iopub.execute_input": "2021-12-14T05:08:39.765790Z",
     "iopub.status.busy": "2021-12-14T05:08:39.765045Z",
     "iopub.status.idle": "2021-12-14T05:08:39.770762Z",
     "shell.execute_reply": "2021-12-14T05:08:39.770020Z",
     "shell.execute_reply.started": "2021-12-14T05:08:39.765738Z"
    }
   },
   "outputs": [],
   "source": [
    "learning_rate_reduction = ReduceLROnPlateau(monitor='val_accuracy', \n",
    "                                            patience = 2, \n",
    "                                            verbose=1,\n",
    "                                            factor=0.3, \n",
    "                                            min_lr=0.000001)"
   ]
  },
  {
   "cell_type": "code",
   "execution_count": null,
   "metadata": {
    "execution": {
     "iopub.execute_input": "2021-12-14T05:08:40.464863Z",
     "iopub.status.busy": "2021-12-14T05:08:40.464612Z",
     "iopub.status.idle": "2021-12-14T05:10:24.737390Z",
     "shell.execute_reply": "2021-12-14T05:10:24.736517Z",
     "shell.execute_reply.started": "2021-12-14T05:08:40.464833Z"
    }
   },
   "outputs": [],
   "source": [
    "history = model.fit(datagen.flow(x_train,y_train, batch_size = 32) ,\n",
    "                    epochs = 10 , \n",
    "                    validation_data = datagen.flow(x_val, y_val) ,\n",
    "                    callbacks = learning_rate_reduction)"
   ]
  },
  {
   "cell_type": "code",
   "execution_count": null,
   "metadata": {
    "execution": {
     "iopub.execute_input": "2021-12-14T05:07:24.425146Z",
     "iopub.status.busy": "2021-12-14T05:07:24.424835Z",
     "iopub.status.idle": "2021-12-14T05:07:24.496362Z",
     "shell.execute_reply": "2021-12-14T05:07:24.495576Z",
     "shell.execute_reply.started": "2021-12-14T05:07:24.425099Z"
    }
   },
   "outputs": [],
   "source": [
    "model.save_weights('kaggle/saved_model_ai/pneumoniadetection')"
   ]
  },
  {
   "cell_type": "markdown",
   "metadata": {},
   "source": [
    "### Evaluation Metrics"
   ]
  },
  {
   "cell_type": "code",
   "execution_count": null,
   "metadata": {
    "execution": {
     "iopub.execute_input": "2021-12-14T05:07:24.497867Z",
     "iopub.status.busy": "2021-12-14T05:07:24.497623Z",
     "iopub.status.idle": "2021-12-14T05:07:25.352467Z",
     "shell.execute_reply": "2021-12-14T05:07:25.351365Z",
     "shell.execute_reply.started": "2021-12-14T05:07:24.497835Z"
    }
   },
   "outputs": [],
   "source": [
    "print(\"Loss of the model is - \" , model.evaluate(x_test,y_test)[0])\n",
    "print(\"Accuracy of the model is - \" , model.evaluate(x_test,y_test)[1]*100 , \"%\")"
   ]
  },
  {
   "cell_type": "code",
   "execution_count": null,
   "metadata": {
    "execution": {
     "iopub.execute_input": "2021-12-14T05:07:25.355842Z",
     "iopub.status.busy": "2021-12-14T05:07:25.355129Z",
     "iopub.status.idle": "2021-12-14T05:07:25.879495Z",
     "shell.execute_reply": "2021-12-14T05:07:25.878795Z",
     "shell.execute_reply.started": "2021-12-14T05:07:25.355801Z"
    }
   },
   "outputs": [],
   "source": [
    "epochs = list(range(10))\n",
    "fig , ax = plt.subplots(1,2)\n",
    "train_acc = history.history['accuracy']\n",
    "train_loss = history.history['loss']\n",
    "val_acc = history.history['val_accuracy']\n",
    "val_loss = history.history['val_loss']\n",
    "fig.set_size_inches(20,10)\n",
    "\n",
    "ax[0].plot(epochs , train_acc , 'go-' , label = 'Training Accuracy')\n",
    "ax[0].plot(epochs , val_acc , 'ro-' , label = 'Validation Accuracy')\n",
    "ax[0].set_title('Training & Validation Accuracy')\n",
    "ax[0].legend()\n",
    "ax[0].set_xlabel(\"Epochs\")\n",
    "ax[0].set_ylabel(\"Accuracy\")\n",
    "\n",
    "ax[1].plot(epochs , train_loss , 'g-o' , label = 'Training Loss')\n",
    "ax[1].plot(epochs , val_loss , 'r-o' , label = 'Validation Loss')\n",
    "ax[1].set_title('Testing Accuracy & Loss')\n",
    "ax[1].legend()\n",
    "ax[1].set_xlabel(\"Epochs\")\n",
    "ax[1].set_ylabel(\"Training & Validation Loss\")\n",
    "plt.show()"
   ]
  },
  {
   "cell_type": "code",
   "execution_count": null,
   "metadata": {
    "execution": {
     "iopub.execute_input": "2021-12-14T05:07:25.881117Z",
     "iopub.status.busy": "2021-12-14T05:07:25.880717Z",
     "iopub.status.idle": "2021-12-14T05:07:26.259699Z",
     "shell.execute_reply": "2021-12-14T05:07:26.258963Z",
     "shell.execute_reply.started": "2021-12-14T05:07:25.881079Z"
    }
   },
   "outputs": [],
   "source": [
    "predictions = model.predict(x_test) \n",
    "for i in range(len(predictions)): \n",
    "    predictions[i] = 1 if predictions[i]>0.5 else 0"
   ]
  },
  {
   "cell_type": "code",
   "execution_count": null,
   "metadata": {
    "execution": {
     "iopub.execute_input": "2021-12-14T05:07:26.261288Z",
     "iopub.status.busy": "2021-12-14T05:07:26.261049Z",
     "iopub.status.idle": "2021-12-14T05:07:26.273281Z",
     "shell.execute_reply": "2021-12-14T05:07:26.272364Z",
     "shell.execute_reply.started": "2021-12-14T05:07:26.261256Z"
    }
   },
   "outputs": [],
   "source": [
    "print(classification_report(y_test, \n",
    "                            predictions, \n",
    "                            target_names = ['Pneumonia (Class 0)','Normal (Class 1)']))"
   ]
  },
  {
   "cell_type": "markdown",
   "metadata": {},
   "source": [
    "### Confusion Matrix\n",
    "\n",
    "![](data:image/png;base64,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)"
   ]
  },
  {
   "cell_type": "code",
   "execution_count": null,
   "metadata": {
    "execution": {
     "iopub.execute_input": "2021-12-14T05:07:26.275647Z",
     "iopub.status.busy": "2021-12-14T05:07:26.275078Z",
     "iopub.status.idle": "2021-12-14T05:07:26.299258Z",
     "shell.execute_reply": "2021-12-14T05:07:26.298448Z",
     "shell.execute_reply.started": "2021-12-14T05:07:26.275617Z"
    }
   },
   "outputs": [],
   "source": [
    "cm = confusion_matrix(y_test,predictions)\n",
    "cm = pd.DataFrame(cm , index = ['0','1'] , columns = ['0','1'])\n",
    "cm"
   ]
  },
  {
   "cell_type": "code",
   "execution_count": null,
   "metadata": {
    "execution": {
     "iopub.execute_input": "2021-12-14T05:07:26.300907Z",
     "iopub.status.busy": "2021-12-14T05:07:26.300584Z",
     "iopub.status.idle": "2021-12-14T05:07:26.516989Z",
     "shell.execute_reply": "2021-12-14T05:07:26.516268Z",
     "shell.execute_reply.started": "2021-12-14T05:07:26.300871Z"
    }
   },
   "outputs": [],
   "source": [
    "sns.heatmap(cm, cmap=\"Blues\", annot=True, xticklabels = labels,yticklabels = labels)\n",
    "plt.show()"
   ]
  },
  {
   "cell_type": "code",
   "execution_count": null,
   "metadata": {
    "execution": {
     "iopub.execute_input": "2021-12-14T05:07:26.518795Z",
     "iopub.status.busy": "2021-12-14T05:07:26.518358Z",
     "iopub.status.idle": "2021-12-14T05:07:26.524539Z",
     "shell.execute_reply": "2021-12-14T05:07:26.523748Z",
     "shell.execute_reply.started": "2021-12-14T05:07:26.518753Z"
    }
   },
   "outputs": [],
   "source": [
    "def pneumoniaPrediction(img):\n",
    "    img = np.array(img)/255\n",
    "    img = img.reshape(-1, 150, 150, 1)\n",
    "    isPneumonic = model.predict(img)[0]\n",
    "    imgClass = \"Normal\" if isPneumonic<0.5 else \"Pneumonic\"\n",
    "    return imgClass"
   ]
  },
  {
   "cell_type": "code",
   "execution_count": null,
   "metadata": {
    "execution": {
     "iopub.execute_input": "2021-12-14T05:07:26.526274Z",
     "iopub.status.busy": "2021-12-14T05:07:26.525973Z",
     "iopub.status.idle": "2021-12-14T05:07:26.838833Z",
     "shell.execute_reply": "2021-12-14T05:07:26.838002Z",
     "shell.execute_reply.started": "2021-12-14T05:07:26.526238Z"
    }
   },
   "outputs": [],
   "source": [
    "pr = model.predict(x_test)\n",
    "for i in range(len(pr)):\n",
    "    if pr[i]>0.5:\n",
    "        pr[i]=1\n",
    "    else:\n",
    "        pr[i]=0"
   ]
  },
  {
   "cell_type": "code",
   "execution_count": null,
   "metadata": {
    "execution": {
     "iopub.execute_input": "2021-12-14T05:07:26.840773Z",
     "iopub.status.busy": "2021-12-14T05:07:26.840528Z",
     "iopub.status.idle": "2021-12-14T05:07:26.845083Z",
     "shell.execute_reply": "2021-12-14T05:07:26.844242Z",
     "shell.execute_reply.started": "2021-12-14T05:07:26.840739Z"
    }
   },
   "outputs": [],
   "source": [
    "img = gradio.inputs.Image(shape=(150, 150))\n",
    "label = gradio.outputs.Label(num_top_classes=1)"
   ]
  },
  {
   "cell_type": "code",
   "execution_count": null,
   "metadata": {
    "execution": {
     "iopub.execute_input": "2021-12-14T05:19:26.558259Z",
     "iopub.status.busy": "2021-12-14T05:19:26.557633Z",
     "iopub.status.idle": "2021-12-14T05:44:17.209789Z",
     "shell.execute_reply": "2021-12-14T05:44:17.208857Z",
     "shell.execute_reply.started": "2021-12-14T05:19:26.558215Z"
    }
   },
   "outputs": [],
   "source": [
    "interface = gradio.Interface(fn = pneumoniaPrediction,\n",
    "                            title = \"Pneumonia Detection using Chest X-Ray\",\n",
    "                            inputs = img,\n",
    "                            outputs = label,\n",
    "                            interpretation = \"default\")\n",
    "interface.launch(debug=True, share=True)"
   ]
  },
  {
   "cell_type": "code",
   "execution_count": null,
   "metadata": {},
   "outputs": [],
   "source": []
  },
  {
   "cell_type": "code",
   "execution_count": null,
   "metadata": {},
   "outputs": [],
   "source": []
  },
  {
   "cell_type": "code",
   "execution_count": null,
   "metadata": {},
   "outputs": [],
   "source": [
    "\n",
    "\n"
   ]
  }
 ],
 "metadata": {
  "kernelspec": {
   "display_name": "Python 3 (ipykernel)",
   "language": "python",
   "name": "python3"
  },
  "language_info": {
   "codemirror_mode": {
    "name": "ipython",
    "version": 3
   },
   "file_extension": ".py",
   "mimetype": "text/x-python",
   "name": "python",
   "nbconvert_exporter": "python",
   "pygments_lexer": "ipython3",
   "version": "3.9.12"
  }
 },
 "nbformat": 4,
 "nbformat_minor": 4
}
